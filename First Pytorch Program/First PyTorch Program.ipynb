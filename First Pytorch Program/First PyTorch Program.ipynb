{
 "cells": [
  {
   "cell_type": "markdown",
   "id": "f6cd2d3c",
   "metadata": {},
   "source": [
    " # First PyTorch Program\n",
    " \n",
    " The following rudimentary model code is implemented from the PyTorch beginner's tutorial page: [PyTorch Quickstart Tutorial](https://pytorch.org/tutorials/beginner/basics/quickstart_tutorial.html). The model is built to make predictions on the FashionMNIST dataset.\n",
    " "
   ]
  },
  {
   "cell_type": "code",
   "execution_count": 29,
   "id": "1e15aa08",
   "metadata": {},
   "outputs": [],
   "source": [
    "import torch\n",
    "from torch import nn\n",
    "from torch.utils.data import DataLoader\n",
    "from torchvision import datasets\n",
    "from torchvision.transforms import ToTensor\n",
    "import matplotlib.pyplot as plt"
   ]
  },
  {
   "cell_type": "markdown",
   "id": "6b4a4d99",
   "metadata": {},
   "source": [
    "## Loading Data"
   ]
  },
  {
   "cell_type": "code",
   "execution_count": 2,
   "id": "fc356164",
   "metadata": {},
   "outputs": [],
   "source": [
    "#### Train data\n",
    "train_data = datasets.FashionMNIST(\n",
    "    root = 'Data',\n",
    "    train = True,\n",
    "    download = True,\n",
    "    transform = ToTensor()\n",
    ")\n",
    "\n",
    "#### Test data\n",
    "test_data = datasets.FashionMNIST(\n",
    "    root = 'Data',\n",
    "    train = False,\n",
    "    download = True,\n",
    "    transform = ToTensor()\n",
    ")"
   ]
  },
  {
   "cell_type": "code",
   "execution_count": 34,
   "id": "1bf08da1",
   "metadata": {},
   "outputs": [
    {
     "name": "stdout",
     "output_type": "stream",
     "text": [
      "Length of train dataset :  60000\n",
      "Length of test dataset :  10000\n"
     ]
    }
   ],
   "source": [
    "print('Length of train dataset : ', len(train_data))\n",
    "print('Length of test dataset : ', len(test_data))"
   ]
  },
  {
   "cell_type": "markdown",
   "id": "0927424d",
   "metadata": {},
   "source": [
    "## Wrapping dataset with a DataLoader()\n",
    "\n",
    "Data Loader allows the dataset to be interable. The DataLoader allows batching, sampling, shuffling and multi-process data loading. "
   ]
  },
  {
   "cell_type": "code",
   "execution_count": 4,
   "id": "6928a65e",
   "metadata": {},
   "outputs": [
    {
     "name": "stdout",
     "output_type": "stream",
     "text": [
      "Shape of X [N, C, H, W] =  torch.Size([64, 1, 28, 28])\n",
      "Shape of y =  torch.Size([64])\n",
      "Dtype of y =  torch.int64\n"
     ]
    }
   ],
   "source": [
    "batch_size = 64\n",
    "\n",
    "train_dataloader = DataLoader(train_data, batch_size = batch_size)\n",
    "test_dataloader = DataLoader(test_data, batch_size = batch_size)\n",
    "\n",
    "for X, y in test_dataloader:\n",
    "    print('Shape of X [N, C, H, W] = ', X.shape)\n",
    "    print('Shape of y = ', y.shape)\n",
    "    print('Dtype of y = ', y.dtype)\n",
    "    break"
   ]
  },
  {
   "cell_type": "markdown",
   "id": "5e9263ca",
   "metadata": {},
   "source": [
    "The size of one batch of the test DataLoader is printed above. In the dimensions of **X**:\n",
    "\n",
    "- **N** represents the number of data points in the batch, which is specified as 64.\n",
    "- **C** is the number of channels. For the FashionMNIST dataset, images have only one color channel.\n",
    "- **H** and **W** are the height and width of the images, respectively, both of which are 28.\n",
    "\n",
    "The target variable **y** is an integer indicating which class the image belongs to. There are a total of 10 classes."
   ]
  },
  {
   "cell_type": "markdown",
   "id": "5e66f243",
   "metadata": {},
   "source": [
    "## Creating Models\n",
    "\n",
    "To define the architecture of the model we are building, we create a class that specifies all the layers of the neural network and how data passes through them. This class inherits from `nn.Module`. The architecture is defined in the `__init__` function, and the data passing logic is implemented in the `forward` function."
   ]
  },
  {
   "cell_type": "code",
   "execution_count": 5,
   "id": "cbedb9a7",
   "metadata": {},
   "outputs": [],
   "source": [
    "class NeuralNetwork(nn.Module):\n",
    "    \n",
    "    def __init__(self):\n",
    "        super().__init__()\n",
    "        self.flatten = nn.Flatten()\n",
    "        self.network = nn.Sequential(\n",
    "            nn.Linear(28*28, 512),\n",
    "            nn.ReLU(),\n",
    "            nn.Linear(512, 512), \n",
    "            nn.ReLU(),\n",
    "            nn.Linear(512, 10)\n",
    "        )\n",
    "    \n",
    "    \n",
    "    def forward(self, x):\n",
    "        x = self.flatten(x)\n",
    "        out = self.network(x)\n",
    "        return out"
   ]
  },
  {
   "cell_type": "code",
   "execution_count": 6,
   "id": "dc14713b",
   "metadata": {},
   "outputs": [
    {
     "name": "stdout",
     "output_type": "stream",
     "text": [
      "NeuralNetwork(\n",
      "  (flatten): Flatten(start_dim=1, end_dim=-1)\n",
      "  (network): Sequential(\n",
      "    (0): Linear(in_features=784, out_features=512, bias=True)\n",
      "    (1): ReLU()\n",
      "    (2): Linear(in_features=512, out_features=512, bias=True)\n",
      "    (3): ReLU()\n",
      "    (4): Linear(in_features=512, out_features=10, bias=True)\n",
      "  )\n",
      ")\n"
     ]
    }
   ],
   "source": [
    "model = NeuralNetwork()\n",
    "print(model)"
   ]
  },
  {
   "cell_type": "markdown",
   "id": "06addb84",
   "metadata": {},
   "source": [
    "## Training the model and Optimizing the model parameters\n",
    "\n",
    "For training the model and optimizing the parameters, we need to define a loss function and the optimization method. For the current code, we are using the cross entropy loss, and Stochastic Gradient descent optimization."
   ]
  },
  {
   "cell_type": "code",
   "execution_count": 14,
   "id": "f40d1f94",
   "metadata": {},
   "outputs": [],
   "source": [
    "loss_fn = nn.CrossEntropyLoss()\n",
    "optimizer = torch.optim.SGD(model.parameters(), lr = 1e-3) # The learning rate is set as 1e-3"
   ]
  },
  {
   "cell_type": "markdown",
   "id": "59928e67",
   "metadata": {},
   "source": [
    "The cross-entropy loss $ L $ is defined as:\n",
    "\n",
    "$$ L = -\\sum_{i=1}^{N} \\sum_{c=1}^{C} y_{i,c} \\log(\\hat{y}_{i,c}) $$\n",
    "\n",
    "where:\n",
    "- $ N $ is the number of samples \n",
    "- $ C $ is the number of classes\n",
    "- $ y_{i,c} $ is the binary indicator (0 or 1) if class label $ c $ is the correct classification for sample $ i $\n",
    "- $ \\hat{y}_{i,c} $ is the predicted probability that sample $ i $ belongs to class $ c $\n"
   ]
  },
  {
   "cell_type": "markdown",
   "id": "6e0635fb",
   "metadata": {},
   "source": [
    "The update rule for stochastic gradient descent is:\n",
    "\n",
    "$$ \\theta = \\theta - \\eta \\nabla_{\\theta} J(\\theta; x^{(i)}; y^{(i)}) $$\n",
    "\n",
    "where:\n",
    "- $ \\theta $ is the parameter vector.\n",
    "- $\\eta $ is the learning rate.\n",
    "- $ \\nabla_{\\theta} J(\\theta; x^{(i)}; y^{(i)}) $ is the gradient of the cost function $ J $ with respect to the parameters $ \\theta $ for the i-th training example $ (x^{(i)}, y^{(i)}) $.\n"
   ]
  },
  {
   "cell_type": "markdown",
   "id": "a6524f87",
   "metadata": {},
   "source": [
    "### Training Function\n",
    "\n",
    "The training function computes the error in prediction and uses back propagation to adjust the model parameters. "
   ]
  },
  {
   "cell_type": "code",
   "execution_count": 21,
   "id": "5bb02617",
   "metadata": {},
   "outputs": [],
   "source": [
    "def train(dataloader, model, loss_fn, optimizer):\n",
    "    size = len(dataloader.dataset)     # Size of the training set\n",
    "    model.train()\n",
    "    \n",
    "    for batch, (X,y) in enumerate(dataloader):\n",
    "        pred = model(X)\n",
    "        loss = loss_fn(pred, y)\n",
    "        \n",
    "        #### Back Propagation\n",
    "        loss.backward()                 # Compute the derivatives\n",
    "        optimizer.step()                # Updating the model parameters\n",
    "        optimizer.zero_grad()           # Setting the grad values to zero after one step of updating parameters\n",
    "        \n",
    "        #### Print the training progress\n",
    "        if batch%100 == 0:\n",
    "            current = (batch+1)*len(X)    # No. of data points the model has been trained on\n",
    "            loss = loss.item()          # Get the loss value of the current training sample\n",
    "            print(f\"Loss : {loss:>7f} [{current:>5d} / {size:>5d}]\")\n",
    "            "
   ]
  },
  {
   "cell_type": "markdown",
   "id": "db2e128e",
   "metadata": {},
   "source": [
    "### Test Function\n",
    "\n",
    "The test function is to check the performance of the adjusted model parameters on the test set. The errors from the test set are not used in the parameter optimization to avoid over fitting and generalize the model to unseen data points. The train and test loss are monitored to ensure that the model is learning."
   ]
  },
  {
   "cell_type": "code",
   "execution_count": 16,
   "id": "73f544db",
   "metadata": {},
   "outputs": [],
   "source": [
    "def test(dataloader, model, loss_fn):\n",
    "    size = len(dataloader.dataset)\n",
    "    batches = len(dataloader)\n",
    "    \n",
    "    model.eval()\n",
    "    test_loss = 0\n",
    "    correct = 0\n",
    "    \n",
    "    with torch.no_grad():\n",
    "        for (X,y) in dataloader:\n",
    "            pred = model(X)\n",
    "            test_loss += loss_fn(pred, y).item()\n",
    "            correct += (pred.argmax(axis = 1) == y).type(torch.float).sum().item()\n",
    "            \n",
    "        test_loss = test_loss/batches\n",
    "        correct = correct/ size\n",
    "        \n",
    "    print(f\"Test Error: Average Loss = {test_loss:>8f}, Accuracy = {correct*100 :>0.1f}%\")"
   ]
  },
  {
   "cell_type": "code",
   "execution_count": 22,
   "id": "1dc6ce8a",
   "metadata": {},
   "outputs": [
    {
     "name": "stdout",
     "output_type": "stream",
     "text": [
      "Epoch 1 \n",
      "______________________________\n",
      "Loss : 1.671026 [   64 / 60000]\n",
      "Loss : 1.637307 [ 6464 / 60000]\n",
      "Loss : 1.481301 [12864 / 60000]\n",
      "Loss : 1.558274 [19264 / 60000]\n",
      "Loss : 1.439580 [25664 / 60000]\n",
      "Loss : 1.419454 [32064 / 60000]\n",
      "Loss : 1.440982 [38464 / 60000]\n",
      "Loss : 1.350231 [44864 / 60000]\n",
      "Loss : 1.390479 [51264 / 60000]\n",
      "Loss : 1.279226 [57664 / 60000]\n",
      "Test Error: Average Loss = 1.310160, Accuracy = 63.6%\n",
      "Epoch 2 \n",
      "______________________________\n",
      "Loss : 1.386322 [   64 / 60000]\n",
      "Loss : 1.363456 [ 6464 / 60000]\n",
      "Loss : 1.192834 [12864 / 60000]\n",
      "Loss : 1.302594 [19264 / 60000]\n",
      "Loss : 1.177310 [25664 / 60000]\n",
      "Loss : 1.193406 [32064 / 60000]\n",
      "Loss : 1.213665 [38464 / 60000]\n",
      "Loss : 1.144922 [44864 / 60000]\n",
      "Loss : 1.188989 [51264 / 60000]\n",
      "Loss : 1.089250 [57664 / 60000]\n",
      "Test Error: Average Loss = 1.120105, Accuracy = 65.0%\n",
      "Epoch 3 \n",
      "______________________________\n",
      "Loss : 1.190905 [   64 / 60000]\n",
      "Loss : 1.189152 [ 6464 / 60000]\n",
      "Loss : 1.004328 [12864 / 60000]\n",
      "Loss : 1.145257 [19264 / 60000]\n",
      "Loss : 1.017296 [25664 / 60000]\n",
      "Loss : 1.043827 [32064 / 60000]\n",
      "Loss : 1.077629 [38464 / 60000]\n",
      "Loss : 1.016573 [44864 / 60000]\n",
      "Loss : 1.062213 [51264 / 60000]\n",
      "Loss : 0.974287 [57664 / 60000]\n",
      "Test Error: Average Loss = 1.000377, Accuracy = 66.1%\n",
      "Epoch 4 \n",
      "______________________________\n",
      "Loss : 1.057873 [   64 / 60000]\n",
      "Loss : 1.078097 [ 6464 / 60000]\n",
      "Loss : 0.877324 [12864 / 60000]\n",
      "Loss : 1.042970 [19264 / 60000]\n",
      "Loss : 0.920402 [25664 / 60000]\n",
      "Loss : 0.940091 [32064 / 60000]\n",
      "Loss : 0.992283 [38464 / 60000]\n",
      "Loss : 0.933440 [44864 / 60000]\n",
      "Loss : 0.977066 [51264 / 60000]\n",
      "Loss : 0.900400 [57664 / 60000]\n",
      "Test Error: Average Loss = 0.920949, Accuracy = 67.5%\n",
      "Epoch 5 \n",
      "______________________________\n",
      "Loss : 0.962146 [   64 / 60000]\n",
      "Loss : 1.003080 [ 6464 / 60000]\n",
      "Loss : 0.788462 [12864 / 60000]\n",
      "Loss : 0.972426 [19264 / 60000]\n",
      "Loss : 0.857743 [25664 / 60000]\n",
      "Loss : 0.864725 [32064 / 60000]\n",
      "Loss : 0.934167 [38464 / 60000]\n",
      "Loss : 0.878016 [44864 / 60000]\n",
      "Loss : 0.916667 [51264 / 60000]\n",
      "Loss : 0.848573 [57664 / 60000]\n",
      "Test Error: Average Loss = 0.864740, Accuracy = 68.8%\n",
      "Training completed!\n"
     ]
    }
   ],
   "source": [
    "#### Implement model training\n",
    "\n",
    "epochs = 5\n",
    "\n",
    "for t in range(epochs):\n",
    "    print(f\"\\nEpoch {t+1} \\n______________________________\")\n",
    "    train(train_dataloader, model, loss_fn, optimizer)\n",
    "    test(test_dataloader, model, loss_fn)\n",
    "\n",
    "print('Training completed!')"
   ]
  },
  {
   "cell_type": "markdown",
   "id": "376c4ee7",
   "metadata": {},
   "source": [
    "## Making Predictions with the model\n",
    "\n",
    "Now that the model is trained and ready to be used, we can try some sample predictions"
   ]
  },
  {
   "cell_type": "code",
   "execution_count": 24,
   "id": "45a9a07a",
   "metadata": {},
   "outputs": [],
   "source": [
    "classes = [\n",
    "    \"T-shirt/top\",\n",
    "    \"Trouser\",\n",
    "    \"Pullover\",\n",
    "    \"Dress\",\n",
    "    \"Coat\",\n",
    "    \"Sandal\",\n",
    "    \"Shirt\",\n",
    "    \"Sneaker\",\n",
    "    \"Bag\",\n",
    "    \"Ankle boot\",\n",
    "]"
   ]
  },
  {
   "cell_type": "code",
   "execution_count": 33,
   "id": "b5674e49",
   "metadata": {},
   "outputs": [
    {
     "name": "stdout",
     "output_type": "stream",
     "text": [
      "Predicted: Coat, Actual: Coat\n"
     ]
    },
    {
     "data": {
      "image/png": "[encoded data removed]",
      "text/plain": [
       "<Figure size 432x288 with 1 Axes>"
      ]
     },
     "metadata": {
      "needs_background": "light"
     },
     "output_type": "display_data"
    }
   ],
   "source": [
    "model.eval()\n",
    "\n",
    "i = 888     #Give values from 0 to 9999 to test the model predictions\n",
    "x,y = test_data[i][0], test_data[i][1]\n",
    "\n",
    "with torch.no_grad():\n",
    "    pred = model(x)\n",
    "    predicted, actual = classes[pred[0].argmax()], classes[y]\n",
    "    \n",
    "plt.imshow(x.permute(1, 2, 0))\n",
    "print(f\"Predicted: {predicted}, Actual: {actual}\")"
   ]
  }
 ],
 "metadata": {
  "kernelspec": {
   "display_name": "Python 3",
   "language": "python",
   "name": "python3"
  },
  "language_info": {
   "codemirror_mode": {
    "name": "ipython",
    "version": 3
   },
   "file_extension": ".py",
   "mimetype": "text/x-python",
   "name": "python",
   "nbconvert_exporter": "python",
   "pygments_lexer": "ipython3",
   "version": "3.8.8"
  }
 },
 "nbformat": 4,
 "nbformat_minor": 5
}
